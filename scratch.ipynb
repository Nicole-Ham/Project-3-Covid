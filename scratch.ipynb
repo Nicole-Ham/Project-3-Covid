{
 "cells": [
  {
   "cell_type": "code",
   "execution_count": null,
   "metadata": {},
   "outputs": [],
   "source": [
    "from sqlalchemy import Column, Integer, MetaData, create_engine\n",
    "from sqlalchemy import Table\n",
    "import sqlalchemy\n",
    "import pandas as pd\n",
    "\n",
    "\n",
    "# Create a connection to the SQLite database\n",
    "engine = create_engine(\"sqlite:///Data/CA_COVID_data.sqlite\")\n",
    "\n",
    "# Use pandas to read the migration_map_data table into a DataFrame\n",
    "df_migration_data = pd.read_sql(\"SELECT * FROM migration_map_data\", engine)\n",
    "\n",
    "# Print the DataFrame\n",
    "df_migration_data"
   ]
  },
  {
   "cell_type": "code",
   "execution_count": null,
   "metadata": {},
   "outputs": [],
   "source": [
    "from sqlalchemy import create_engine, MetaData, Table, Column, Integer, PrimaryKeyConstraint\n",
    "\n",
    "DATABASE_URI = \"sqlite:///Data/CA_COVID_data.sqlite\"\n",
    "engine = create_engine(DATABASE_URI)\n",
    "metadata = MetaData()\n",
    "\n",
    "# Reflect the existing migration_map_data table\n",
    "migration_map_data = Table('migration_map_data', metadata, autoload_with=engine)\n",
    "\n",
    "# Create a new table with the same structure, but with the 'index' column as primary key\n",
    "new_migration_map_data = Table('new_migration_map_data', metadata,\n",
    "    Column('index', Integer, primary_key=True),\n",
    "    *(column.copy() for column in migration_map_data.columns if column.name != 'index'),\n",
    "    extend_existing=True\n",
    ")\n",
    "\n",
    "# Create the new table\n",
    "new_migration_map_data.create(engine)\n",
    "\n",
    "# Copy data from the old table to the new table\n",
    "with engine.connect() as conn:\n",
    "    select_stmt = migration_map_data.select()\n",
    "    result = conn.execute(select_stmt)\n",
    "    for row in result:\n",
    "        insert_stmt = new_migration_map_data.insert().values(row._asdict())\n",
    "        conn.execute(insert_stmt)\n",
    "\n",
    "# Drop the old table\n",
    "migration_map_data.drop(engine)\n",
    "\n",
    "# Rename the new table to the original name\n",
    "with engine.connect() as conn:\n",
    "    conn.execute(\"ALTER TABLE new_migration_map_data RENAME TO migration_map_data\")\n",
    "\n"
   ]
  },
  {
   "cell_type": "code",
   "execution_count": null,
   "metadata": {},
   "outputs": [],
   "source": [
    "# Define your database URI\n",
    "DATABASE_URI = \"sqlite:///Data/CA_COVID_data.sqlite\"\n",
    "engine = create_engine(DATABASE_URI)\n",
    "metadata = MetaData()\n",
    "\n",
    "# Define the table you want to drop (without creating columns and other details)\n",
    "table_to_drop = Table('new_migration_map_data', metadata)\n",
    "\n",
    "# Drop the table\n",
    "table_to_drop.drop(engine, checkfirst=True)\n"
   ]
  },
  {
   "cell_type": "markdown",
   "metadata": {},
   "source": [
    "### Printout a SQLite table  as a dataframe"
   ]
  },
  {
   "cell_type": "code",
   "execution_count": 14,
   "metadata": {},
   "outputs": [
    {
     "name": "stdout",
     "output_type": "stream",
     "text": [
      "          pk     county state  fips_state  fips_county   fips  year  stayput  \\\n",
      "0          0  Abbeville    SC          45            1  45001  2017    16703   \n",
      "1          1  Abbeville    SC          45            1  45001  2018    16829   \n",
      "2          2  Abbeville    SC          45            1  45001  2019    16862   \n",
      "3          3  Abbeville    SC          45            1  45001  2020    16987   \n",
      "4          4  Abbeville    SC          45            1  45001  2021    16338   \n",
      "...      ...        ...   ...         ...          ...    ...   ...      ...   \n",
      "15645  15645    Ziebach    SD          46          137  46137  2017      945   \n",
      "15646  15646    Ziebach    SD          46          137  46137  2018      942   \n",
      "15647  15647    Ziebach    SD          46          137  46137  2019      938   \n",
      "15648  15648    Ziebach    SD          46          137  46137  2020      995   \n",
      "15649  15649    Ziebach    SD          46          137  46137  2021      955   \n",
      "\n",
      "       inflow  outflow  net_migration  \n",
      "0         747      852           -105  \n",
      "1         813      679            134  \n",
      "2         581      678            -97  \n",
      "3         669      633             36  \n",
      "4         573      738           -165  \n",
      "...       ...      ...            ...  \n",
      "15645       0        0              0  \n",
      "15646       0        0              0  \n",
      "15647       0        0              0  \n",
      "15648       0        0              0  \n",
      "15649       0        0              0  \n",
      "\n",
      "[15650 rows x 11 columns]\n"
     ]
    }
   ],
   "source": [
    "# Create a connection to the SQLite database\n",
    "engine = create_engine(\"sqlite:///Data/CA_COVID_data.sqlite\")\n",
    "\n",
    "# Use pandas to read the desired table into a DataFrame\n",
    "df = pd.read_sql_table('county_migrations', engine)\n",
    "\n",
    "# Print the DataFrame\n",
    "print(df)\n"
   ]
  },
  {
   "cell_type": "markdown",
   "metadata": {},
   "source": [
    "### Drop a table"
   ]
  },
  {
   "cell_type": "code",
   "execution_count": 17,
   "metadata": {},
   "outputs": [],
   "source": [
    "# Define your database URI and set up a connection\n",
    "DATABASE_URI = \"sqlite:///Data/CA_COVID_data.sqlite\"\n",
    "engine = create_engine(DATABASE_URI)\n",
    "metadata = MetaData()\n",
    "\n",
    "# Reflect the table you want to drop\n",
    "table_to_drop = Table('backup_map_data', metadata, autoload_with=engine)\n",
    "\n",
    "# Drop the table\n",
    "table_to_drop.drop(engine)\n"
   ]
  },
  {
   "cell_type": "markdown",
   "metadata": {},
   "source": [
    "### Convert shapefile into geojson"
   ]
  },
  {
   "cell_type": "code",
   "execution_count": 1,
   "metadata": {},
   "outputs": [],
   "source": [
    "import geopandas as gpd\n",
    "\n",
    "# Read the shapefile\n",
    "gdf = gpd.read_file('Data/SHAPEFILE_US_Census')  # Replace with your Shapefile directory\n",
    "\n",
    "# Write to GeoJSON format\n",
    "gdf.to_file('Data/us_counties_geometry.geojson', driver='GeoJSON')\n"
   ]
  },
  {
   "cell_type": "markdown",
   "metadata": {},
   "source": [
    "#### Examine geojson file to find missing 'properties'"
   ]
  },
  {
   "cell_type": "code",
   "execution_count": 11,
   "metadata": {},
   "outputs": [
    {
     "ename": "TypeError",
     "evalue": "string indices must be integers",
     "output_type": "error",
     "traceback": [
      "\u001b[0;31m---------------------------------------------------------------------------\u001b[0m",
      "\u001b[0;31mTypeError\u001b[0m                                 Traceback (most recent call last)",
      "\u001b[1;32m/Users/jnorth/Documents/GitHub/Project-3-Covid/scratch.ipynb Cell 11\u001b[0m line \u001b[0;36m1\n\u001b[1;32m     <a href='vscode-notebook-cell:/Users/jnorth/Documents/GitHub/Project-3-Covid/scratch.ipynb#X13sZmlsZQ%3D%3D?line=14'>15</a>\u001b[0m     exit()\n\u001b[1;32m     <a href='vscode-notebook-cell:/Users/jnorth/Documents/GitHub/Project-3-Covid/scratch.ipynb#X13sZmlsZQ%3D%3D?line=16'>17</a>\u001b[0m \u001b[39m# Step 2 & 3: Loop through the features and identify ones without 'properties'\u001b[39;00m\n\u001b[1;32m     <a href='vscode-notebook-cell:/Users/jnorth/Documents/GitHub/Project-3-Covid/scratch.ipynb#X13sZmlsZQ%3D%3D?line=17'>18</a>\u001b[0m features_without_properties \u001b[39m=\u001b[39m [\n\u001b[0;32m---> <a href='vscode-notebook-cell:/Users/jnorth/Documents/GitHub/Project-3-Covid/scratch.ipynb#X13sZmlsZQ%3D%3D?line=18'>19</a>\u001b[0m     feature \u001b[39mfor\u001b[39;00m feature \u001b[39min\u001b[39;00m geojson_data[\u001b[39m\"\u001b[39;49m\u001b[39mfeatures\u001b[39;49m\u001b[39m\"\u001b[39;49m] \u001b[39mif\u001b[39;00m \u001b[39m\"\u001b[39m\u001b[39mproperties\u001b[39m\u001b[39m\"\u001b[39m \u001b[39mnot\u001b[39;00m \u001b[39min\u001b[39;00m feature\n\u001b[1;32m     <a href='vscode-notebook-cell:/Users/jnorth/Documents/GitHub/Project-3-Covid/scratch.ipynb#X13sZmlsZQ%3D%3D?line=19'>20</a>\u001b[0m ]\n\u001b[1;32m     <a href='vscode-notebook-cell:/Users/jnorth/Documents/GitHub/Project-3-Covid/scratch.ipynb#X13sZmlsZQ%3D%3D?line=21'>22</a>\u001b[0m \u001b[39m# Print the count of features without properties\u001b[39;00m\n\u001b[1;32m     <a href='vscode-notebook-cell:/Users/jnorth/Documents/GitHub/Project-3-Covid/scratch.ipynb#X13sZmlsZQ%3D%3D?line=22'>23</a>\u001b[0m \u001b[39mprint\u001b[39m(\u001b[39mf\u001b[39m\u001b[39m\"\u001b[39m\u001b[39mFound \u001b[39m\u001b[39m{\u001b[39;00m\u001b[39mlen\u001b[39m(features_without_properties)\u001b[39m}\u001b[39;00m\u001b[39m features without \u001b[39m\u001b[39m'\u001b[39m\u001b[39mproperties\u001b[39m\u001b[39m'\u001b[39m\u001b[39m attribute.\u001b[39m\u001b[39m\"\u001b[39m)\n",
      "\u001b[0;31mTypeError\u001b[0m: string indices must be integers"
     ]
    }
   ],
   "source": [
    "import json\n",
    "import pandas as pd\n",
    "import geopandas as gpd\n",
    "\n",
    "\n",
    "import json\n",
    "\n",
    "# Step 1: Read the GeoJSON file\n",
    "with open(\"EXAMINE.geojson\", \"r\") as file:\n",
    "    geojson_data = json.load(file)\n",
    "\n",
    "# Check if the GeoJSON has the 'features' attribute\n",
    "if \"features\" not in geojson_data:\n",
    "    print(\"The provided GeoJSON does not have a 'features' attribute.\")\n",
    "    exit()\n",
    "\n",
    "# Step 2 & 3: Loop through the features and identify ones without 'properties'\n",
    "features_without_properties = [\n",
    "    feature for feature in geojson_data[\"features\"] if \"properties\" not in feature\n",
    "]\n",
    "\n",
    "# Print the count of features without properties\n",
    "print(f\"Found {len(features_without_properties)} features without 'properties' attribute.\")\n",
    "\n",
    "# Step 4: Save the identified features in a list (This step is already done in Step 3)\n",
    "# If you wish to examine or further process these features, they are available in the 'features_without_properties' list.\n",
    "\n",
    "# If you want to save the 'features_without_properties' list to another JSON file, you can do:\n",
    "with open(\"Features_Without_Properties.json\", \"w\") as output_file:\n",
    "    json.dump(features_without_properties, output_file, indent=4)\n",
    "\n",
    "\n",
    "\n"
   ]
  }
 ],
 "metadata": {
  "kernelspec": {
   "display_name": "Python 3",
   "language": "python",
   "name": "python3"
  },
  "language_info": {
   "codemirror_mode": {
    "name": "ipython",
    "version": 3
   },
   "file_extension": ".py",
   "mimetype": "text/x-python",
   "name": "python",
   "nbconvert_exporter": "python",
   "pygments_lexer": "ipython3",
   "version": "3.9.6"
  }
 },
 "nbformat": 4,
 "nbformat_minor": 2
}
