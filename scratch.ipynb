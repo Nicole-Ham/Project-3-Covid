{
 "cells": [
  {
   "cell_type": "code",
   "execution_count": null,
   "metadata": {},
   "outputs": [],
   "source": [
    "from sqlalchemy import Column, Integer, MetaData, create_engine\n",
    "from sqlalchemy import Table\n",
    "import sqlalchemy\n",
    "import pandas as pd\n",
    "\n",
    "\n",
    "# Create a connection to the SQLite database\n",
    "engine = create_engine(\"sqlite:///Data/CA_COVID_data.sqlite\")\n",
    "\n",
    "# Use pandas to read the migration_map_data table into a DataFrame\n",
    "df_migration_data = pd.read_sql(\"SELECT * FROM migration_map_data\", engine)\n",
    "\n",
    "# Print the DataFrame\n",
    "df_migration_data"
   ]
  },
  {
   "cell_type": "code",
   "execution_count": null,
   "metadata": {},
   "outputs": [],
   "source": [
    "from sqlalchemy import create_engine, MetaData, Table, Column, Integer, PrimaryKeyConstraint\n",
    "\n",
    "DATABASE_URI = \"sqlite:///Data/CA_COVID_data.sqlite\"\n",
    "engine = create_engine(DATABASE_URI)\n",
    "metadata = MetaData()\n",
    "\n",
    "# Reflect the existing migration_map_data table\n",
    "migration_map_data = Table('migration_map_data', metadata, autoload_with=engine)\n",
    "\n",
    "# Create a new table with the same structure, but with the 'index' column as primary key\n",
    "new_migration_map_data = Table('new_migration_map_data', metadata,\n",
    "    Column('index', Integer, primary_key=True),\n",
    "    *(column.copy() for column in migration_map_data.columns if column.name != 'index'),\n",
    "    extend_existing=True\n",
    ")\n",
    "\n",
    "# Create the new table\n",
    "new_migration_map_data.create(engine)\n",
    "\n",
    "# Copy data from the old table to the new table\n",
    "with engine.connect() as conn:\n",
    "    select_stmt = migration_map_data.select()\n",
    "    result = conn.execute(select_stmt)\n",
    "    for row in result:\n",
    "        insert_stmt = new_migration_map_data.insert().values(row._asdict())\n",
    "        conn.execute(insert_stmt)\n",
    "\n",
    "# Drop the old table\n",
    "migration_map_data.drop(engine)\n",
    "\n",
    "# Rename the new table to the original name\n",
    "with engine.connect() as conn:\n",
    "    conn.execute(\"ALTER TABLE new_migration_map_data RENAME TO migration_map_data\")\n",
    "\n"
   ]
  },
  {
   "cell_type": "code",
   "execution_count": null,
   "metadata": {},
   "outputs": [],
   "source": [
    "# Define your database URI\n",
    "DATABASE_URI = \"sqlite:///Data/CA_COVID_data.sqlite\"\n",
    "engine = create_engine(DATABASE_URI)\n",
    "metadata = MetaData()\n",
    "\n",
    "# Define the table you want to drop (without creating columns and other details)\n",
    "table_to_drop = Table('new_migration_map_data', metadata)\n",
    "\n",
    "# Drop the table\n",
    "table_to_drop.drop(engine, checkfirst=True)\n"
   ]
  },
  {
   "cell_type": "markdown",
   "metadata": {},
   "source": [
    "### Printout a SQLite table  as a dataframe"
   ]
  },
  {
   "cell_type": "code",
   "execution_count": 14,
   "metadata": {},
   "outputs": [
    {
     "name": "stdout",
     "output_type": "stream",
     "text": [
      "          pk     county state  fips_state  fips_county   fips  year  stayput  \\\n",
      "0          0  Abbeville    SC          45            1  45001  2017    16703   \n",
      "1          1  Abbeville    SC          45            1  45001  2018    16829   \n",
      "2          2  Abbeville    SC          45            1  45001  2019    16862   \n",
      "3          3  Abbeville    SC          45            1  45001  2020    16987   \n",
      "4          4  Abbeville    SC          45            1  45001  2021    16338   \n",
      "...      ...        ...   ...         ...          ...    ...   ...      ...   \n",
      "15645  15645    Ziebach    SD          46          137  46137  2017      945   \n",
      "15646  15646    Ziebach    SD          46          137  46137  2018      942   \n",
      "15647  15647    Ziebach    SD          46          137  46137  2019      938   \n",
      "15648  15648    Ziebach    SD          46          137  46137  2020      995   \n",
      "15649  15649    Ziebach    SD          46          137  46137  2021      955   \n",
      "\n",
      "       inflow  outflow  net_migration  \n",
      "0         747      852           -105  \n",
      "1         813      679            134  \n",
      "2         581      678            -97  \n",
      "3         669      633             36  \n",
      "4         573      738           -165  \n",
      "...       ...      ...            ...  \n",
      "15645       0        0              0  \n",
      "15646       0        0              0  \n",
      "15647       0        0              0  \n",
      "15648       0        0              0  \n",
      "15649       0        0              0  \n",
      "\n",
      "[15650 rows x 11 columns]\n"
     ]
    }
   ],
   "source": [
    "# Create a connection to the SQLite database\n",
    "engine = create_engine(\"sqlite:///Data/CA_COVID_data.sqlite\")\n",
    "\n",
    "# Use pandas to read the desired table into a DataFrame\n",
    "df = pd.read_sql_table('county_migrations', engine)\n",
    "\n",
    "# Print the DataFrame\n",
    "print(df)\n"
   ]
  },
  {
   "cell_type": "markdown",
   "metadata": {},
   "source": [
    "### Drop a table"
   ]
  },
  {
   "cell_type": "code",
   "execution_count": 17,
   "metadata": {},
   "outputs": [],
   "source": [
    "# Define your database URI and set up a connection\n",
    "DATABASE_URI = \"sqlite:///Data/CA_COVID_data.sqlite\"\n",
    "engine = create_engine(DATABASE_URI)\n",
    "metadata = MetaData()\n",
    "\n",
    "# Reflect the table you want to drop\n",
    "table_to_drop = Table('backup_map_data', metadata, autoload_with=engine)\n",
    "\n",
    "# Drop the table\n",
    "table_to_drop.drop(engine)\n"
   ]
  },
  {
   "cell_type": "markdown",
   "metadata": {},
   "source": [
    "### Convert shapefile into geojson"
   ]
  },
  {
   "cell_type": "code",
   "execution_count": 1,
   "metadata": {},
   "outputs": [],
   "source": [
    "import geopandas as gpd\n",
    "\n",
    "# Read the shapefile\n",
    "gdf = gpd.read_file('Data/SHAPEFILE_US_Census')  # Replace with your Shapefile directory\n",
    "\n",
    "# Write to GeoJSON format\n",
    "gdf.to_file('Data/us_counties_geometry.geojson', driver='GeoJSON')\n"
   ]
  }
 ],
 "metadata": {
  "kernelspec": {
   "display_name": "Python 3",
   "language": "python",
   "name": "python3"
  },
  "language_info": {
   "codemirror_mode": {
    "name": "ipython",
    "version": 3
   },
   "file_extension": ".py",
   "mimetype": "text/x-python",
   "name": "python",
   "nbconvert_exporter": "python",
   "pygments_lexer": "ipython3",
   "version": "3.9.6"
  }
 },
 "nbformat": 4,
 "nbformat_minor": 2
}
