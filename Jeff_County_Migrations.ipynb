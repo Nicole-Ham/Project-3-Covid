{
 "cells": [
  {
   "cell_type": "markdown",
   "metadata": {},
   "source": [
    "# Jeff's Migration Data Analysis"
   ]
  },
  {
   "cell_type": "code",
   "execution_count": 18,
   "metadata": {},
   "outputs": [],
   "source": [
    "import pandas as pd\n",
    "import plotly.express as px\n",
    "import json\n",
    "import geopandas as gpd\n",
    "import folium\n",
    "import matplotlib.pyplot as plt\n",
    "import matplotlib.colors as mcolors\n",
    "import numpy as np\n",
    "from sqlalchemy import create_engine\n"
   ]
  },
  {
   "cell_type": "markdown",
   "metadata": {},
   "source": [
    "### READ DATA"
   ]
  },
  {
   "cell_type": "code",
   "execution_count": 19,
   "metadata": {},
   "outputs": [],
   "source": [
    "migration_df = pd.read_csv('Data/IRS_county_to_county_migration_2017-2021.csv')\n",
    "\n",
    "counties_df = pd.read_csv('Data/us_counties')\n",
    "counties_df['fips'] = counties_df['fips'].str[1:-1]"
   ]
  },
  {
   "cell_type": "code",
   "execution_count": 20,
   "metadata": {},
   "outputs": [
    {
     "data": {
      "text/html": [
       "<div>\n",
       "<style scoped>\n",
       "    .dataframe tbody tr th:only-of-type {\n",
       "        vertical-align: middle;\n",
       "    }\n",
       "\n",
       "    .dataframe tbody tr th {\n",
       "        vertical-align: top;\n",
       "    }\n",
       "\n",
       "    .dataframe thead th {\n",
       "        text-align: right;\n",
       "    }\n",
       "</style>\n",
       "<table border=\"1\" class=\"dataframe\">\n",
       "  <thead>\n",
       "    <tr style=\"text-align: right;\">\n",
       "      <th></th>\n",
       "      <th>county</th>\n",
       "      <th>state</th>\n",
       "      <th>fips_state</th>\n",
       "      <th>fips_county</th>\n",
       "      <th>fips</th>\n",
       "    </tr>\n",
       "  </thead>\n",
       "  <tbody>\n",
       "    <tr>\n",
       "      <th>0</th>\n",
       "      <td>Abbeville</td>\n",
       "      <td>SC</td>\n",
       "      <td>45</td>\n",
       "      <td>1</td>\n",
       "      <td>45001</td>\n",
       "    </tr>\n",
       "  </tbody>\n",
       "</table>\n",
       "</div>"
      ],
      "text/plain": [
       "      county state  fips_state  fips_county   fips\n",
       "0  Abbeville    SC          45            1  45001"
      ]
     },
     "execution_count": 20,
     "metadata": {},
     "output_type": "execute_result"
    }
   ],
   "source": [
    "counties_df.head(1)"
   ]
  },
  {
   "cell_type": "code",
   "execution_count": 21,
   "metadata": {},
   "outputs": [
    {
     "data": {
      "text/html": [
       "<div>\n",
       "<style scoped>\n",
       "    .dataframe tbody tr th:only-of-type {\n",
       "        vertical-align: middle;\n",
       "    }\n",
       "\n",
       "    .dataframe tbody tr th {\n",
       "        vertical-align: top;\n",
       "    }\n",
       "\n",
       "    .dataframe thead th {\n",
       "        text-align: right;\n",
       "    }\n",
       "</style>\n",
       "<table border=\"1\" class=\"dataframe\">\n",
       "  <thead>\n",
       "    <tr style=\"text-align: right;\">\n",
       "      <th></th>\n",
       "      <th>year</th>\n",
       "      <th>dest_state_id</th>\n",
       "      <th>dest_county_id</th>\n",
       "      <th>orig_state_id</th>\n",
       "      <th>orig_county_id</th>\n",
       "      <th>dest_state</th>\n",
       "      <th>dest_county</th>\n",
       "      <th>orig_state</th>\n",
       "      <th>orig_county</th>\n",
       "      <th>inflow_type</th>\n",
       "      <th>returns</th>\n",
       "      <th>individuals</th>\n",
       "      <th>adj_gross_income</th>\n",
       "    </tr>\n",
       "  </thead>\n",
       "  <tbody>\n",
       "    <tr>\n",
       "      <th>0</th>\n",
       "      <td>2017</td>\n",
       "      <td>1</td>\n",
       "      <td>1</td>\n",
       "      <td>96</td>\n",
       "      <td>0</td>\n",
       "      <td>AL</td>\n",
       "      <td>Autauga County Total Migration-US and Foreign</td>\n",
       "      <td>NaN</td>\n",
       "      <td>NaN</td>\n",
       "      <td>us_and_foreign</td>\n",
       "      <td>2400</td>\n",
       "      <td>5702</td>\n",
       "      <td>125069000</td>\n",
       "    </tr>\n",
       "  </tbody>\n",
       "</table>\n",
       "</div>"
      ],
      "text/plain": [
       "   year  dest_state_id  dest_county_id  orig_state_id  orig_county_id  \\\n",
       "0  2017              1               1             96               0   \n",
       "\n",
       "  dest_state                                    dest_county orig_state  \\\n",
       "0         AL  Autauga County Total Migration-US and Foreign        NaN   \n",
       "\n",
       "  orig_county     inflow_type  returns  individuals  adj_gross_income  \n",
       "0         NaN  us_and_foreign     2400         5702         125069000  "
      ]
     },
     "execution_count": 21,
     "metadata": {},
     "output_type": "execute_result"
    }
   ],
   "source": [
    "migration_df.head(1)"
   ]
  },
  {
   "cell_type": "code",
   "execution_count": 35,
   "metadata": {},
   "outputs": [
    {
     "data": {
      "text/plain": [
       "array(['us_and_foreign', 'us', 'same_state', 'different_state', 'foreign',\n",
       "       'non-migrants', 'us_counties', 'other_same_state',\n",
       "       'other_diff_state', 'other_foreign'], dtype=object)"
      ]
     },
     "execution_count": 35,
     "metadata": {},
     "output_type": "execute_result"
    }
   ],
   "source": [
    "migration_df['inflow_type'].unique()"
   ]
  },
  {
   "cell_type": "code",
   "execution_count": 22,
   "metadata": {},
   "outputs": [],
   "source": [
    "movers_df = migration_df[migration_df['inflow_type'] == 'us_counties'].reset_index(drop=True)\n",
    "non_movers_df = migration_df[migration_df['inflow_type'] == 'non-migrants'].reset_index(drop=True)"
   ]
  },
  {
   "cell_type": "markdown",
   "metadata": {},
   "source": [
    "# VIEW_DF for map plot"
   ]
  },
  {
   "cell_type": "code",
   "execution_count": 23,
   "metadata": {},
   "outputs": [],
   "source": [
    "stayputs_df = non_movers_df\\\n",
    "    .groupby(['year', 'dest_state_id', 'dest_county_id'])['individuals']\\\n",
    "    .sum()\\\n",
    "    .reset_index()\\\n",
    "    .rename(columns={'individuals': 'stayput'})\n",
    "\n",
    "inflows_df = movers_df\\\n",
    "    .groupby(['year', 'dest_state_id', 'dest_county_id'])['individuals']\\\n",
    "    .sum()\\\n",
    "    .reset_index()\\\n",
    "    .rename(columns={'individuals': 'inflow'})\n",
    "\n",
    "outflows_df = movers_df\\\n",
    "    .groupby(['year', 'orig_state_id', 'orig_county_id'])['individuals']\\\n",
    "    .sum()\\\n",
    "    .reset_index()\\\n",
    "    .rename(columns={'individuals': 'outflow'})\n",
    "\n",
    "view_df = pd.merge(counties_df, stayputs_df, how='inner', left_on=['fips_state', 'fips_county'], right_on=['dest_state_id', 'dest_county_id']).drop(columns=['dest_state_id', 'dest_county_id'])\n",
    "view_df = view_df.merge(inflows_df[['dest_state_id', 'dest_county_id', 'year', 'inflow']], how='left', left_on=['fips_state', 'fips_county', 'year'], right_on=['dest_state_id', 'dest_county_id', 'year']).drop(columns=['dest_state_id', 'dest_county_id'])\n",
    "view_df = view_df.merge(outflows_df[['orig_state_id', 'orig_county_id', 'year', 'outflow']], how='left', left_on=['fips_state', 'fips_county', 'year'], right_on=['orig_state_id', 'orig_county_id', 'year']).drop(columns=['orig_state_id', 'orig_county_id'])\n"
   ]
  },
  {
   "cell_type": "code",
   "execution_count": 24,
   "metadata": {},
   "outputs": [
    {
     "data": {
      "text/plain": [
       "county            0\n",
       "state             0\n",
       "fips_state        0\n",
       "fips_county       0\n",
       "fips              0\n",
       "year              0\n",
       "stayput           0\n",
       "inflow         1651\n",
       "outflow        1476\n",
       "dtype: int64"
      ]
     },
     "execution_count": 24,
     "metadata": {},
     "output_type": "execute_result"
    }
   ],
   "source": [
    "view_df.isna().sum()"
   ]
  },
  {
   "cell_type": "code",
   "execution_count": 25,
   "metadata": {},
   "outputs": [],
   "source": [
    "view_df[['inflow', 'outflow']] = view_df[['inflow', 'outflow']].fillna(0)\n",
    "view_df[['inflow', 'outflow']] = view_df[['inflow', 'outflow']].astype(int)"
   ]
  },
  {
   "cell_type": "code",
   "execution_count": 26,
   "metadata": {},
   "outputs": [],
   "source": [
    "# create new 'net_migration' column\n",
    "view_df['net_migration'] = view_df['inflow'] - view_df['outflow']"
   ]
  },
  {
   "cell_type": "code",
   "execution_count": 27,
   "metadata": {},
   "outputs": [
    {
     "data": {
      "text/html": [
       "<div>\n",
       "<style scoped>\n",
       "    .dataframe tbody tr th:only-of-type {\n",
       "        vertical-align: middle;\n",
       "    }\n",
       "\n",
       "    .dataframe tbody tr th {\n",
       "        vertical-align: top;\n",
       "    }\n",
       "\n",
       "    .dataframe thead th {\n",
       "        text-align: right;\n",
       "    }\n",
       "</style>\n",
       "<table border=\"1\" class=\"dataframe\">\n",
       "  <thead>\n",
       "    <tr style=\"text-align: right;\">\n",
       "      <th></th>\n",
       "      <th>county</th>\n",
       "      <th>state</th>\n",
       "      <th>fips_state</th>\n",
       "      <th>fips_county</th>\n",
       "      <th>fips</th>\n",
       "      <th>year</th>\n",
       "      <th>stayput</th>\n",
       "      <th>inflow</th>\n",
       "      <th>outflow</th>\n",
       "      <th>net_migration</th>\n",
       "    </tr>\n",
       "  </thead>\n",
       "  <tbody>\n",
       "    <tr>\n",
       "      <th>0</th>\n",
       "      <td>Abbeville</td>\n",
       "      <td>SC</td>\n",
       "      <td>45</td>\n",
       "      <td>1</td>\n",
       "      <td>45001</td>\n",
       "      <td>2017</td>\n",
       "      <td>16703</td>\n",
       "      <td>747</td>\n",
       "      <td>852</td>\n",
       "      <td>-105</td>\n",
       "    </tr>\n",
       "    <tr>\n",
       "      <th>1</th>\n",
       "      <td>Abbeville</td>\n",
       "      <td>SC</td>\n",
       "      <td>45</td>\n",
       "      <td>1</td>\n",
       "      <td>45001</td>\n",
       "      <td>2018</td>\n",
       "      <td>16829</td>\n",
       "      <td>813</td>\n",
       "      <td>679</td>\n",
       "      <td>134</td>\n",
       "    </tr>\n",
       "    <tr>\n",
       "      <th>2</th>\n",
       "      <td>Abbeville</td>\n",
       "      <td>SC</td>\n",
       "      <td>45</td>\n",
       "      <td>1</td>\n",
       "      <td>45001</td>\n",
       "      <td>2019</td>\n",
       "      <td>16862</td>\n",
       "      <td>581</td>\n",
       "      <td>678</td>\n",
       "      <td>-97</td>\n",
       "    </tr>\n",
       "    <tr>\n",
       "      <th>3</th>\n",
       "      <td>Abbeville</td>\n",
       "      <td>SC</td>\n",
       "      <td>45</td>\n",
       "      <td>1</td>\n",
       "      <td>45001</td>\n",
       "      <td>2020</td>\n",
       "      <td>16987</td>\n",
       "      <td>669</td>\n",
       "      <td>633</td>\n",
       "      <td>36</td>\n",
       "    </tr>\n",
       "    <tr>\n",
       "      <th>4</th>\n",
       "      <td>Abbeville</td>\n",
       "      <td>SC</td>\n",
       "      <td>45</td>\n",
       "      <td>1</td>\n",
       "      <td>45001</td>\n",
       "      <td>2021</td>\n",
       "      <td>16338</td>\n",
       "      <td>573</td>\n",
       "      <td>738</td>\n",
       "      <td>-165</td>\n",
       "    </tr>\n",
       "    <tr>\n",
       "      <th>...</th>\n",
       "      <td>...</td>\n",
       "      <td>...</td>\n",
       "      <td>...</td>\n",
       "      <td>...</td>\n",
       "      <td>...</td>\n",
       "      <td>...</td>\n",
       "      <td>...</td>\n",
       "      <td>...</td>\n",
       "      <td>...</td>\n",
       "      <td>...</td>\n",
       "    </tr>\n",
       "    <tr>\n",
       "      <th>15645</th>\n",
       "      <td>Ziebach</td>\n",
       "      <td>SD</td>\n",
       "      <td>46</td>\n",
       "      <td>137</td>\n",
       "      <td>46137</td>\n",
       "      <td>2017</td>\n",
       "      <td>945</td>\n",
       "      <td>0</td>\n",
       "      <td>0</td>\n",
       "      <td>0</td>\n",
       "    </tr>\n",
       "    <tr>\n",
       "      <th>15646</th>\n",
       "      <td>Ziebach</td>\n",
       "      <td>SD</td>\n",
       "      <td>46</td>\n",
       "      <td>137</td>\n",
       "      <td>46137</td>\n",
       "      <td>2018</td>\n",
       "      <td>942</td>\n",
       "      <td>0</td>\n",
       "      <td>0</td>\n",
       "      <td>0</td>\n",
       "    </tr>\n",
       "    <tr>\n",
       "      <th>15647</th>\n",
       "      <td>Ziebach</td>\n",
       "      <td>SD</td>\n",
       "      <td>46</td>\n",
       "      <td>137</td>\n",
       "      <td>46137</td>\n",
       "      <td>2019</td>\n",
       "      <td>938</td>\n",
       "      <td>0</td>\n",
       "      <td>0</td>\n",
       "      <td>0</td>\n",
       "    </tr>\n",
       "    <tr>\n",
       "      <th>15648</th>\n",
       "      <td>Ziebach</td>\n",
       "      <td>SD</td>\n",
       "      <td>46</td>\n",
       "      <td>137</td>\n",
       "      <td>46137</td>\n",
       "      <td>2020</td>\n",
       "      <td>995</td>\n",
       "      <td>0</td>\n",
       "      <td>0</td>\n",
       "      <td>0</td>\n",
       "    </tr>\n",
       "    <tr>\n",
       "      <th>15649</th>\n",
       "      <td>Ziebach</td>\n",
       "      <td>SD</td>\n",
       "      <td>46</td>\n",
       "      <td>137</td>\n",
       "      <td>46137</td>\n",
       "      <td>2021</td>\n",
       "      <td>955</td>\n",
       "      <td>0</td>\n",
       "      <td>0</td>\n",
       "      <td>0</td>\n",
       "    </tr>\n",
       "  </tbody>\n",
       "</table>\n",
       "<p>15650 rows × 10 columns</p>\n",
       "</div>"
      ],
      "text/plain": [
       "          county state  fips_state  fips_county   fips  year  stayput  inflow  \\\n",
       "0      Abbeville    SC          45            1  45001  2017    16703     747   \n",
       "1      Abbeville    SC          45            1  45001  2018    16829     813   \n",
       "2      Abbeville    SC          45            1  45001  2019    16862     581   \n",
       "3      Abbeville    SC          45            1  45001  2020    16987     669   \n",
       "4      Abbeville    SC          45            1  45001  2021    16338     573   \n",
       "...          ...   ...         ...          ...    ...   ...      ...     ...   \n",
       "15645    Ziebach    SD          46          137  46137  2017      945       0   \n",
       "15646    Ziebach    SD          46          137  46137  2018      942       0   \n",
       "15647    Ziebach    SD          46          137  46137  2019      938       0   \n",
       "15648    Ziebach    SD          46          137  46137  2020      995       0   \n",
       "15649    Ziebach    SD          46          137  46137  2021      955       0   \n",
       "\n",
       "       outflow  net_migration  \n",
       "0          852           -105  \n",
       "1          679            134  \n",
       "2          678            -97  \n",
       "3          633             36  \n",
       "4          738           -165  \n",
       "...        ...            ...  \n",
       "15645        0              0  \n",
       "15646        0              0  \n",
       "15647        0              0  \n",
       "15648        0              0  \n",
       "15649        0              0  \n",
       "\n",
       "[15650 rows x 10 columns]"
      ]
     },
     "execution_count": 27,
     "metadata": {},
     "output_type": "execute_result"
    }
   ],
   "source": [
    "view_df"
   ]
  },
  {
   "cell_type": "code",
   "execution_count": 28,
   "metadata": {},
   "outputs": [
    {
     "data": {
      "text/plain": [
       "(140792, -121872)"
      ]
     },
     "execution_count": 28,
     "metadata": {},
     "output_type": "execute_result"
    }
   ],
   "source": [
    "view_df['net_migration'].max(), view_df['net_migration'].min()"
   ]
  },
  {
   "cell_type": "markdown",
   "metadata": {},
   "source": [
    "## Create chlorapleth map"
   ]
  },
  {
   "cell_type": "markdown",
   "metadata": {},
   "source": [
    "#### Shapefile"
   ]
  },
  {
   "cell_type": "code",
   "execution_count": 29,
   "metadata": {},
   "outputs": [],
   "source": [
    "# Load the shapefile into a GeoDataFrame\n",
    "gdf = gpd.read_file('/Users/jnorth/Documents/GitHub/Project-3-Covid/Data/SHAPEFILE_US_Census')"
   ]
  },
  {
   "cell_type": "code",
   "execution_count": 30,
   "metadata": {},
   "outputs": [
    {
     "data": {
      "text/plain": [
       "Index(['STATEFP', 'COUNTYFP', 'COUNTYNS', 'AFFGEOID', 'GEOID', 'NAME',\n",
       "       'NAMELSAD', 'STUSPS', 'STATE_NAME', 'LSAD', 'ALAND', 'AWATER',\n",
       "       'geometry'],\n",
       "      dtype='object')"
      ]
     },
     "execution_count": 30,
     "metadata": {},
     "output_type": "execute_result"
    }
   ],
   "source": [
    "gdf.columns"
   ]
  },
  {
   "cell_type": "code",
   "execution_count": 31,
   "metadata": {},
   "outputs": [],
   "source": [
    "merged_gdf = gdf.merge(view_df, left_on='GEOID', right_on='fips', how='left')"
   ]
  },
  {
   "cell_type": "code",
   "execution_count": 32,
   "metadata": {},
   "outputs": [],
   "source": [
    "geojson_data = merged_gdf.to_json()"
   ]
  },
  {
   "cell_type": "code",
   "execution_count": 33,
   "metadata": {},
   "outputs": [
    {
     "data": {
      "image/png": "[encoded data removed]",
      "text/plain": [
       "<Figure size 640x480 with 2 Axes>"
      ]
     },
     "metadata": {},
     "output_type": "display_data"
    }
   ],
   "source": [
    "import matplotlib.pyplot as plt\n",
    "\n",
    "gpd_df = gpd.GeoDataFrame(merged_gdf)\n",
    "gpd_df.plot(column='net_migration', legend=True)\n",
    "plt.show()\n"
   ]
  },
  {
   "cell_type": "code",
   "execution_count": 34,
   "metadata": {},
   "outputs": [
    {
     "ename": "ValueError",
     "evalue": "All values are expected to fall into one of the provided bins (or to be Nan). Please check the `bins` parameter and/or your data.",
     "output_type": "error",
     "traceback": [
      "\u001b[0;31m---------------------------------------------------------------------------\u001b[0m",
      "\u001b[0;31mValueError\u001b[0m                                Traceback (most recent call last)",
      "\u001b[1;32m/Users/jnorth/Documents/GitHub/Project-3-Covid/Jeff_County_Migrations.ipynb Cell 22\u001b[0m line \u001b[0;36m1\n\u001b[1;32m     <a href='vscode-notebook-cell:/Users/jnorth/Documents/GitHub/Project-3-Covid/Jeff_County_Migrations.ipynb#X26sZmlsZQ%3D%3D?line=9'>10</a>\u001b[0m bins \u001b[39m=\u001b[39m [\u001b[39m-\u001b[39m\u001b[39m130000\u001b[39m, \u001b[39m-\u001b[39m\u001b[39m4000\u001b[39m, \u001b[39m-\u001b[39m\u001b[39m3000\u001b[39m, \u001b[39m-\u001b[39m\u001b[39m2500\u001b[39m, \u001b[39m-\u001b[39m\u001b[39m500\u001b[39m, \u001b[39m0\u001b[39m, \u001b[39m500\u001b[39m, \u001b[39m1000\u001b[39m, \u001b[39m2000\u001b[39m, \u001b[39m41000\u001b[39m]\n\u001b[1;32m     <a href='vscode-notebook-cell:/Users/jnorth/Documents/GitHub/Project-3-Covid/Jeff_County_Migrations.ipynb#X26sZmlsZQ%3D%3D?line=11'>12</a>\u001b[0m \u001b[39m# Add the choropleth layer\u001b[39;00m\n\u001b[0;32m---> <a href='vscode-notebook-cell:/Users/jnorth/Documents/GitHub/Project-3-Covid/Jeff_County_Migrations.ipynb#X26sZmlsZQ%3D%3D?line=12'>13</a>\u001b[0m folium\u001b[39m.\u001b[39;49mChoropleth(\n\u001b[1;32m     <a href='vscode-notebook-cell:/Users/jnorth/Documents/GitHub/Project-3-Covid/Jeff_County_Migrations.ipynb#X26sZmlsZQ%3D%3D?line=13'>14</a>\u001b[0m     geo_data\u001b[39m=\u001b[39;49mgeojson_data,\n\u001b[1;32m     <a href='vscode-notebook-cell:/Users/jnorth/Documents/GitHub/Project-3-Covid/Jeff_County_Migrations.ipynb#X26sZmlsZQ%3D%3D?line=14'>15</a>\u001b[0m     name\u001b[39m=\u001b[39;49m\u001b[39m'\u001b[39;49m\u001b[39mchoropleth\u001b[39;49m\u001b[39m'\u001b[39;49m,\n\u001b[1;32m     <a href='vscode-notebook-cell:/Users/jnorth/Documents/GitHub/Project-3-Covid/Jeff_County_Migrations.ipynb#X26sZmlsZQ%3D%3D?line=15'>16</a>\u001b[0m     data\u001b[39m=\u001b[39;49mmerged_gdf,\n\u001b[1;32m     <a href='vscode-notebook-cell:/Users/jnorth/Documents/GitHub/Project-3-Covid/Jeff_County_Migrations.ipynb#X26sZmlsZQ%3D%3D?line=16'>17</a>\u001b[0m     columns\u001b[39m=\u001b[39;49m[\u001b[39m'\u001b[39;49m\u001b[39mGEOID\u001b[39;49m\u001b[39m'\u001b[39;49m, \u001b[39m'\u001b[39;49m\u001b[39mnet_migration\u001b[39;49m\u001b[39m'\u001b[39;49m],\n\u001b[1;32m     <a href='vscode-notebook-cell:/Users/jnorth/Documents/GitHub/Project-3-Covid/Jeff_County_Migrations.ipynb#X26sZmlsZQ%3D%3D?line=17'>18</a>\u001b[0m     key_on\u001b[39m=\u001b[39;49m\u001b[39m'\u001b[39;49m\u001b[39mfeature.properties.GEOID\u001b[39;49m\u001b[39m'\u001b[39;49m,\n\u001b[1;32m     <a href='vscode-notebook-cell:/Users/jnorth/Documents/GitHub/Project-3-Covid/Jeff_County_Migrations.ipynb#X26sZmlsZQ%3D%3D?line=18'>19</a>\u001b[0m     fill_color\u001b[39m=\u001b[39;49m\u001b[39m'\u001b[39;49m\u001b[39mviridis\u001b[39;49m\u001b[39m'\u001b[39;49m,\n\u001b[1;32m     <a href='vscode-notebook-cell:/Users/jnorth/Documents/GitHub/Project-3-Covid/Jeff_County_Migrations.ipynb#X26sZmlsZQ%3D%3D?line=19'>20</a>\u001b[0m     bins\u001b[39m=\u001b[39;49mbins,\n\u001b[1;32m     <a href='vscode-notebook-cell:/Users/jnorth/Documents/GitHub/Project-3-Covid/Jeff_County_Migrations.ipynb#X26sZmlsZQ%3D%3D?line=20'>21</a>\u001b[0m     fill_opacity\u001b[39m=\u001b[39;49m\u001b[39m.7\u001b[39;49m,\n\u001b[1;32m     <a href='vscode-notebook-cell:/Users/jnorth/Documents/GitHub/Project-3-Covid/Jeff_County_Migrations.ipynb#X26sZmlsZQ%3D%3D?line=21'>22</a>\u001b[0m     line_opacity\u001b[39m=\u001b[39;49m\u001b[39m0.2\u001b[39;49m,\n\u001b[1;32m     <a href='vscode-notebook-cell:/Users/jnorth/Documents/GitHub/Project-3-Covid/Jeff_County_Migrations.ipynb#X26sZmlsZQ%3D%3D?line=22'>23</a>\u001b[0m     legend_name\u001b[39m=\u001b[39;49m\u001b[39m'\u001b[39;49m\u001b[39mNet Migration\u001b[39;49m\u001b[39m'\u001b[39;49m\n\u001b[1;32m     <a href='vscode-notebook-cell:/Users/jnorth/Documents/GitHub/Project-3-Covid/Jeff_County_Migrations.ipynb#X26sZmlsZQ%3D%3D?line=23'>24</a>\u001b[0m )\u001b[39m.\u001b[39madd_to(m)\n\u001b[1;32m     <a href='vscode-notebook-cell:/Users/jnorth/Documents/GitHub/Project-3-Covid/Jeff_County_Migrations.ipynb#X26sZmlsZQ%3D%3D?line=25'>26</a>\u001b[0m \u001b[39m# Add a layer control\u001b[39;00m\n\u001b[1;32m     <a href='vscode-notebook-cell:/Users/jnorth/Documents/GitHub/Project-3-Covid/Jeff_County_Migrations.ipynb#X26sZmlsZQ%3D%3D?line=26'>27</a>\u001b[0m folium\u001b[39m.\u001b[39mLayerControl()\u001b[39m.\u001b[39madd_to(m)\n",
      "File \u001b[0;32m~/Library/Python/3.9/lib/python/site-packages/folium/features.py:1502\u001b[0m, in \u001b[0;36mChoropleth.__init__\u001b[0;34m(self, geo_data, data, columns, key_on, bins, fill_color, nan_fill_color, fill_opacity, nan_fill_opacity, line_color, line_weight, line_opacity, name, legend_name, overlay, control, show, topojson, smooth_factor, highlight, use_jenks, **kwargs)\u001b[0m\n\u001b[1;32m   1500\u001b[0m bins_min, bins_max \u001b[39m=\u001b[39m \u001b[39mmin\u001b[39m(bin_edges), \u001b[39mmax\u001b[39m(bin_edges)\n\u001b[1;32m   1501\u001b[0m \u001b[39mif\u001b[39;00m np\u001b[39m.\u001b[39many((real_values \u001b[39m<\u001b[39m bins_min) \u001b[39m|\u001b[39m (real_values \u001b[39m>\u001b[39m bins_max)):\n\u001b[0;32m-> 1502\u001b[0m     \u001b[39mraise\u001b[39;00m \u001b[39mValueError\u001b[39;00m(\n\u001b[1;32m   1503\u001b[0m         \u001b[39m\"\u001b[39m\u001b[39mAll values are expected to fall into one of the provided \u001b[39m\u001b[39m\"\u001b[39m\n\u001b[1;32m   1504\u001b[0m         \u001b[39m\"\u001b[39m\u001b[39mbins (or to be Nan). Please check the `bins` parameter \u001b[39m\u001b[39m\"\u001b[39m\n\u001b[1;32m   1505\u001b[0m         \u001b[39m\"\u001b[39m\u001b[39mand/or your data.\u001b[39m\u001b[39m\"\u001b[39m\n\u001b[1;32m   1506\u001b[0m     )\n\u001b[1;32m   1508\u001b[0m \u001b[39m# We add the colorscale\u001b[39;00m\n\u001b[1;32m   1509\u001b[0m nb_bins \u001b[39m=\u001b[39m \u001b[39mlen\u001b[39m(bin_edges) \u001b[39m-\u001b[39m \u001b[39m1\u001b[39m\n",
      "\u001b[0;31mValueError\u001b[0m: All values are expected to fall into one of the provided bins (or to be Nan). Please check the `bins` parameter and/or your data."
     ]
    }
   ],
   "source": [
    "num_colors = 10  # or any other number of colors you want\n",
    "colors = plt.cm.plasma(np.linspace(0, 1, num_colors))\n",
    "color_scale = [mcolors.rgb2hex(color) for color in colors]\n",
    "\n",
    "geojson_data = merged_gdf.to_json()\n",
    "\n",
    "# Create a base map\n",
    "m = folium.Map(location=[39.8283, -98.5795], zoom_start=4) \n",
    "\n",
    "bins = [-130000, -4000, -3000, -2500, -500, 0, 500, 1000, 2000, 41000]\n",
    "\n",
    "# Add the choropleth layer\n",
    "folium.Choropleth(\n",
    "    geo_data=geojson_data,\n",
    "    name='choropleth',\n",
    "    data=merged_gdf,\n",
    "    columns=['GEOID', 'net_migration'],\n",
    "    key_on='feature.properties.GEOID',\n",
    "    fill_color='viridis',\n",
    "    bins=bins,\n",
    "    fill_opacity=.7,\n",
    "    line_opacity=0.2,\n",
    "    legend_name='Net Migration'\n",
    ").add_to(m)\n",
    "\n",
    "# Add a layer control\n",
    "folium.LayerControl().add_to(m)\n",
    "\n",
    "# Display the map\n",
    "m"
   ]
  }
 ],
 "metadata": {
  "kernelspec": {
   "display_name": "Python 3",
   "language": "python",
   "name": "python3"
  },
  "language_info": {
   "codemirror_mode": {
    "name": "ipython",
    "version": 3
   },
   "file_extension": ".py",
   "mimetype": "text/x-python",
   "name": "python",
   "nbconvert_exporter": "python",
   "pygments_lexer": "ipython3",
   "version": "3.9.6"
  },
  "orig_nbformat": 4
 },
 "nbformat": 4,
 "nbformat_minor": 2
}
