{
 "cells": [
  {
   "cell_type": "code",
   "execution_count": 13,
   "metadata": {},
   "outputs": [],
   "source": [
    "import pandas as pd \n",
    "import geopandas as gpd\n",
    "import sqlite3"
   ]
  },
  {
   "cell_type": "markdown",
   "metadata": {},
   "source": [
    "#### Load dataframe csv's"
   ]
  },
  {
   "cell_type": "code",
   "execution_count": 7,
   "metadata": {},
   "outputs": [],
   "source": [
    "migration = pd.read_csv('Data/IRS_county_to_county_migration_2017-2021.csv')\n",
    "\n",
    "counties = pd.read_csv('Data/us_counties')"
   ]
  },
  {
   "cell_type": "code",
   "execution_count": 18,
   "metadata": {},
   "outputs": [],
   "source": [
    "migration_geojson = gpd.read_file('Data/migration_data.geojson')"
   ]
  },
  {
   "cell_type": "code",
   "execution_count": 16,
   "metadata": {},
   "outputs": [],
   "source": [
    "conn = sqlite3.connect('/Users/jnorth/Documents/GitHub/Project-3-Covid/Data/CA_COVID_data.sqlite')"
   ]
  },
  {
   "cell_type": "markdown",
   "metadata": {},
   "source": [
    "#### Write tables to SQLite database"
   ]
  },
  {
   "cell_type": "code",
   "execution_count": 8,
   "metadata": {},
   "outputs": [
    {
     "data": {
      "text/plain": [
       "3131"
      ]
     },
     "execution_count": 8,
     "metadata": {},
     "output_type": "execute_result"
    }
   ],
   "source": [
    "# Write the data to the database as tables\n",
    "migration.to_sql('county-to-county_migration', conn, if_exists='replace', index=False)\n",
    "counties.to_sql('us_counties', conn, if_exists='replace', index=False)"
   ]
  },
  {
   "cell_type": "code",
   "execution_count": null,
   "metadata": {},
   "outputs": [],
   "source": [
    "migration_geojson.to_sql('migration_geojson', conn, if_exists='replace', index=False)"
   ]
  },
  {
   "cell_type": "code",
   "execution_count": 10,
   "metadata": {},
   "outputs": [],
   "source": [
    "# Connect to the SQLite database\n",
    "cursor = conn.cursor()\n",
    "\n",
    "cursor.execute(\"SELECT name FROM sqlite_master WHERE type='table';\")\n",
    "tables = cursor.fetchall()"
   ]
  },
  {
   "cell_type": "code",
   "execution_count": 11,
   "metadata": {},
   "outputs": [
    {
     "name": "stdout",
     "output_type": "stream",
     "text": [
      "case_surv\n",
      "vaccine_by_county\n",
      "county-to-county_migration\n",
      "us_counties\n"
     ]
    }
   ],
   "source": [
    "for table in tables:\n",
    "    print(table[0])  "
   ]
  },
  {
   "cell_type": "code",
   "execution_count": 24,
   "metadata": {},
   "outputs": [],
   "source": [
    "conn.close()"
   ]
  },
  {
   "cell_type": "code",
   "execution_count": 2,
   "metadata": {},
   "outputs": [
    {
     "name": "stdout",
     "output_type": "stream",
     "text": [
      "Defaulting to user installation because normal site-packages is not writeable\n",
      "Collecting flask-cors\n",
      "  Obtaining dependency information for flask-cors from https://files.pythonhosted.org/packages/10/69/1e6cfb87117568a9de088c32d6258219e9d1ff7c131abf74249ef2031279/Flask_Cors-4.0.0-py2.py3-none-any.whl.metadata\n",
      "  Downloading Flask_Cors-4.0.0-py2.py3-none-any.whl.metadata (5.4 kB)\n",
      "Requirement already satisfied: Flask>=0.9 in /Users/jnorth/Library/Python/3.9/lib/python/site-packages (from flask-cors) (2.3.2)\n",
      "Requirement already satisfied: Werkzeug>=2.3.3 in /Users/jnorth/Library/Python/3.9/lib/python/site-packages (from Flask>=0.9->flask-cors) (2.3.7)\n",
      "Requirement already satisfied: Jinja2>=3.1.2 in /Users/jnorth/Library/Python/3.9/lib/python/site-packages (from Flask>=0.9->flask-cors) (3.1.2)\n",
      "Requirement already satisfied: itsdangerous>=2.1.2 in /Users/jnorth/Library/Python/3.9/lib/python/site-packages (from Flask>=0.9->flask-cors) (2.1.2)\n",
      "Requirement already satisfied: click>=8.1.3 in /Users/jnorth/Library/Python/3.9/lib/python/site-packages (from Flask>=0.9->flask-cors) (8.1.6)\n",
      "Requirement already satisfied: blinker>=1.6.2 in /Users/jnorth/Library/Python/3.9/lib/python/site-packages (from Flask>=0.9->flask-cors) (1.6.2)\n",
      "Requirement already satisfied: importlib-metadata>=3.6.0 in /Users/jnorth/Library/Python/3.9/lib/python/site-packages (from Flask>=0.9->flask-cors) (6.8.0)\n",
      "Requirement already satisfied: zipp>=0.5 in /Users/jnorth/Library/Python/3.9/lib/python/site-packages (from importlib-metadata>=3.6.0->Flask>=0.9->flask-cors) (3.16.2)\n",
      "Requirement already satisfied: MarkupSafe>=2.0 in /Users/jnorth/Library/Python/3.9/lib/python/site-packages (from Jinja2>=3.1.2->Flask>=0.9->flask-cors) (2.1.3)\n",
      "Downloading Flask_Cors-4.0.0-py2.py3-none-any.whl (14 kB)\n",
      "Installing collected packages: flask-cors\n",
      "Successfully installed flask-cors-4.0.0\n"
     ]
    }
   ],
   "source": []
  }
 ],
 "metadata": {
  "kernelspec": {
   "display_name": "Python 3",
   "language": "python",
   "name": "python3"
  },
  "language_info": {
   "codemirror_mode": {
    "name": "ipython",
    "version": 3
   },
   "file_extension": ".py",
   "mimetype": "text/x-python",
   "name": "python",
   "nbconvert_exporter": "python",
   "pygments_lexer": "ipython3",
   "version": "3.9.6"
  },
  "orig_nbformat": 4
 },
 "nbformat": 4,
 "nbformat_minor": 2
}
