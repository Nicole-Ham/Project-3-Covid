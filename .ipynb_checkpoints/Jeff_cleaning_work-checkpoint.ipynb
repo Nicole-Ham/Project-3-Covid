{
 "cells": [
  {
   "cell_type": "code",
   "execution_count": 1,
   "metadata": {},
   "outputs": [],
   "source": [
    "import pandas as pd\n",
    "import json\n",
    "import requests"
   ]
  },
  {
   "cell_type": "markdown",
   "metadata": {},
   "source": [
    "## Migration data from IRS"
   ]
  },
  {
   "cell_type": "code",
   "execution_count": 2,
   "metadata": {},
   "outputs": [
    {
     "data": {
      "text/html": [
       "<div>\n",
       "<style scoped>\n",
       "    .dataframe tbody tr th:only-of-type {\n",
       "        vertical-align: middle;\n",
       "    }\n",
       "\n",
       "    .dataframe tbody tr th {\n",
       "        vertical-align: top;\n",
       "    }\n",
       "\n",
       "    .dataframe thead th {\n",
       "        text-align: right;\n",
       "    }\n",
       "</style>\n",
       "<table border=\"1\" class=\"dataframe\">\n",
       "  <thead>\n",
       "    <tr style=\"text-align: right;\">\n",
       "      <th></th>\n",
       "      <th>year</th>\n",
       "      <th>dest_state_id</th>\n",
       "      <th>dest_county_id</th>\n",
       "      <th>orig_state_id</th>\n",
       "      <th>orig_county_id</th>\n",
       "      <th>dest_state</th>\n",
       "      <th>dest_county</th>\n",
       "      <th>returns</th>\n",
       "      <th>individuals</th>\n",
       "      <th>adj_gross_income</th>\n",
       "    </tr>\n",
       "  </thead>\n",
       "  <tbody>\n",
       "    <tr>\n",
       "      <th>0</th>\n",
       "      <td>2017</td>\n",
       "      <td>1</td>\n",
       "      <td>1</td>\n",
       "      <td>96</td>\n",
       "      <td>0</td>\n",
       "      <td>AL</td>\n",
       "      <td>Autauga County Total Migration-US and Foreign</td>\n",
       "      <td>2400</td>\n",
       "      <td>5702</td>\n",
       "      <td>125069000</td>\n",
       "    </tr>\n",
       "    <tr>\n",
       "      <th>1</th>\n",
       "      <td>2017</td>\n",
       "      <td>1</td>\n",
       "      <td>1</td>\n",
       "      <td>97</td>\n",
       "      <td>0</td>\n",
       "      <td>AL</td>\n",
       "      <td>Autauga County Total Migration-US</td>\n",
       "      <td>2366</td>\n",
       "      <td>5573</td>\n",
       "      <td>122696000</td>\n",
       "    </tr>\n",
       "    <tr>\n",
       "      <th>2</th>\n",
       "      <td>2017</td>\n",
       "      <td>1</td>\n",
       "      <td>1</td>\n",
       "      <td>97</td>\n",
       "      <td>1</td>\n",
       "      <td>AL</td>\n",
       "      <td>Autauga County Total Migration-Same State</td>\n",
       "      <td>1516</td>\n",
       "      <td>3352</td>\n",
       "      <td>66187000</td>\n",
       "    </tr>\n",
       "    <tr>\n",
       "      <th>3</th>\n",
       "      <td>2017</td>\n",
       "      <td>1</td>\n",
       "      <td>1</td>\n",
       "      <td>97</td>\n",
       "      <td>3</td>\n",
       "      <td>AL</td>\n",
       "      <td>Autauga County Total Migration-Different State</td>\n",
       "      <td>850</td>\n",
       "      <td>2221</td>\n",
       "      <td>56510000</td>\n",
       "    </tr>\n",
       "    <tr>\n",
       "      <th>4</th>\n",
       "      <td>2017</td>\n",
       "      <td>1</td>\n",
       "      <td>1</td>\n",
       "      <td>98</td>\n",
       "      <td>0</td>\n",
       "      <td>AL</td>\n",
       "      <td>Autauga County Total Migration-Foreign</td>\n",
       "      <td>34</td>\n",
       "      <td>129</td>\n",
       "      <td>2373000</td>\n",
       "    </tr>\n",
       "  </tbody>\n",
       "</table>\n",
       "</div>"
      ],
      "text/plain": [
       "   year  dest_state_id  dest_county_id  orig_state_id  orig_county_id  \\\n",
       "0  2017              1               1             96               0   \n",
       "1  2017              1               1             97               0   \n",
       "2  2017              1               1             97               1   \n",
       "3  2017              1               1             97               3   \n",
       "4  2017              1               1             98               0   \n",
       "\n",
       "  dest_state                                     dest_county  returns  \\\n",
       "0         AL   Autauga County Total Migration-US and Foreign     2400   \n",
       "1         AL               Autauga County Total Migration-US     2366   \n",
       "2         AL       Autauga County Total Migration-Same State     1516   \n",
       "3         AL  Autauga County Total Migration-Different State      850   \n",
       "4         AL          Autauga County Total Migration-Foreign       34   \n",
       "\n",
       "   individuals  adj_gross_income  \n",
       "0         5702         125069000  \n",
       "1         5573         122696000  \n",
       "2         3352          66187000  \n",
       "3         2221          56510000  \n",
       "4          129           2373000  "
      ]
     },
     "execution_count": 2,
     "metadata": {},
     "output_type": "execute_result"
    }
   ],
   "source": [
    "migration_df = pd.read_csv('Data/IRS_county_to_county_migration_2017-2021.csv')\n",
    "migration_df.head()"
   ]
  },
  {
   "cell_type": "markdown",
   "metadata": {},
   "source": [
    "### Restructure the data to include new single-column County ID's "
   ]
  },
  {
   "cell_type": "code",
   "execution_count": 3,
   "metadata": {},
   "outputs": [],
   "source": [
    "# create a new index column 'dest_county_id' for each county\n",
    "migration_df['new_county_id'] = pd.factorize(migration_df['dest_state_id'].astype(str) + '_' + migration_df['dest_county_id'].astype(str))[0]"
   ]
  },
  {
   "cell_type": "code",
   "execution_count": 4,
   "metadata": {},
   "outputs": [],
   "source": [
    "# create a new sorting column 'inflow_type'\n",
    "\n",
    "def get_inflow_type(row):\n",
    "    if row['orig_state_id'] == 96 and row['orig_county_id'] == 0:\n",
    "        return 'us_and_foreign'\n",
    "    elif row['orig_state_id'] == 97 and row['orig_county_id'] == 0:\n",
    "        return 'us'\n",
    "    elif row['orig_state_id'] == 97 and row['orig_county_id'] == 1:\n",
    "        return 'same_state'\n",
    "    elif row['orig_state_id'] == 97 and row['orig_county_id'] == 3:\n",
    "        return 'different_state'\n",
    "    elif row['orig_state_id'] == 98 and row['orig_county_id'] == 0:\n",
    "        return 'foreign'\n",
    "    elif row['dest_county_id'] == row['orig_county_id']:\n",
    "        return 'non-migrants'\n",
    "    elif row['orig_state_id'] == 57 and row['orig_county_id'] == 9:\n",
    "        return 'other_foreign'\n",
    "    elif row['orig_state_id'] == 58 and row['orig_county_id'] == 0:\n",
    "        return 'other_same_state'\n",
    "    elif row['orig_state_id'] == 59 and row['orig_county_id'] == 0:\n",
    "        return 'other_diff_state'\n",
    "    else:\n",
    "        return 'us_counties'  # Default value for unmatched cases\n",
    "\n",
    "# Add the 'inflow_type' column based on the custom function\n",
    "migration_df['inflow_type'] = migration_df.apply(get_inflow_type, axis=1)"
   ]
  },
  {
   "cell_type": "markdown",
   "metadata": {},
   "source": [
    "## Create new Counties table / df"
   ]
  },
  {
   "cell_type": "code",
   "execution_count": 5,
   "metadata": {},
   "outputs": [],
   "source": [
    "import re\n",
    "\n",
    "# Create an empty DataFrame to store the results\n",
    "counties_df = pd.DataFrame(columns=['county_id', 'county', 'state', 'fips_state', 'fips_county'])\n",
    "\n",
    "# Iterate over the unique new_county_id in migration_df\n",
    "for dest_county_id in migration_df['new_county_id'].unique():\n",
    "    # Select the first row with the current dest_county_id\n",
    "    row = migration_df[migration_df['new_county_id'] == dest_county_id].iloc[0]\n",
    "    # Extract the state and county information from the selected row\n",
    "    state = row['dest_state']\n",
    "    county = re.split(' County| Parish| City| Borough| Municipality', row['dest_county'], flags=re.IGNORECASE)[0]\n",
    "    fips_st = row['dest_state_id']\n",
    "    fips_ct = row['dest_county_id']\n",
    "    # Create a temporary DataFrame and concatenate it with counties_df\n",
    "    temp_df = pd.DataFrame({\n",
    "        'county_id': [dest_county_id],\n",
    "        'county': [county],\n",
    "        'state': [state],\n",
    "        'fips_state': [fips_st],\n",
    "        'fips_county': [fips_ct]\n",
    "    })\n",
    "    counties_df = pd.concat([counties_df, temp_df], ignore_index=True).reset_index(drop=True)\n",
    "\n",
    "counties_df = counties_df[['county_id', 'county', 'state', 'fips_state', 'fips_county']]"
   ]
  },
  {
   "cell_type": "code",
   "execution_count": 6,
   "metadata": {},
   "outputs": [],
   "source": [
    "# remove all rows showing county name as 'census'\n",
    "counties_df = counties_df[~counties_df['county'].str.contains('census', case=False, na=False)]\n",
    "\n",
    "# remove all rows with no county identified (from 2017, 2018 data)\n",
    "counties_df = counties_df[~counties_df['county'].str.startswith('Total')]"
   ]
  },
  {
   "cell_type": "code",
   "execution_count": 7,
   "metadata": {},
   "outputs": [],
   "source": [
    "# Convert fips_state and fips_county to string ensuring the correct format\n",
    "counties_df['fips_state'] = counties_df['fips_state'].apply(lambda x: f\"{x:02}\")\n",
    "counties_df['fips_county'] = counties_df['fips_county'].apply(lambda x: f\"{x:03}\")\n",
    "\n",
    "# Combine the two fips columns into 'geoid' column\n",
    "counties_df['geoid'] = counties_df['fips_state'] + counties_df['fips_county']\n",
    "counties_df = counties_df[['county_id', 'county', 'state', 'fips_state', 'fips_county', 'geoid']].reset_index(drop=True)"
   ]
  },
  {
   "cell_type": "code",
   "execution_count": 8,
   "metadata": {},
   "outputs": [],
   "source": [
    "counties_df[['fips_state', 'fips_county']] = counties_df[['fips_state', 'fips_county']].astype(int)"
   ]
  },
  {
   "cell_type": "markdown",
   "metadata": {},
   "source": [
    "## Migration table restructuring"
   ]
  },
  {
   "cell_type": "code",
   "execution_count": 9,
   "metadata": {},
   "outputs": [],
   "source": [
    "# Perform a merge operation to add 'orig_county' and 'orig_state' names \n",
    "migration_df = migration_df.merge(\n",
    "    counties_df, \n",
    "    how='left', \n",
    "    left_on=['orig_state_id', 'orig_county_id'], \n",
    "    right_on=['fips_state', 'fips_county']\n",
    ")"
   ]
  },
  {
   "cell_type": "code",
   "execution_count": 10,
   "metadata": {},
   "outputs": [
    {
     "data": {
      "text/html": [
       "<div>\n",
       "<style scoped>\n",
       "    .dataframe tbody tr th:only-of-type {\n",
       "        vertical-align: middle;\n",
       "    }\n",
       "\n",
       "    .dataframe tbody tr th {\n",
       "        vertical-align: top;\n",
       "    }\n",
       "\n",
       "    .dataframe thead th {\n",
       "        text-align: right;\n",
       "    }\n",
       "</style>\n",
       "<table border=\"1\" class=\"dataframe\">\n",
       "  <thead>\n",
       "    <tr style=\"text-align: right;\">\n",
       "      <th></th>\n",
       "      <th>year</th>\n",
       "      <th>dest_state_id</th>\n",
       "      <th>dest_county_id</th>\n",
       "      <th>orig_state_id</th>\n",
       "      <th>orig_county_id</th>\n",
       "      <th>dest_state</th>\n",
       "      <th>dest_county</th>\n",
       "      <th>returns</th>\n",
       "      <th>individuals</th>\n",
       "      <th>adj_gross_income</th>\n",
       "      <th>inflow_type</th>\n",
       "      <th>orig_county</th>\n",
       "      <th>orig_state</th>\n",
       "    </tr>\n",
       "  </thead>\n",
       "  <tbody>\n",
       "    <tr>\n",
       "      <th>0</th>\n",
       "      <td>2017</td>\n",
       "      <td>1</td>\n",
       "      <td>1</td>\n",
       "      <td>96</td>\n",
       "      <td>0</td>\n",
       "      <td>AL</td>\n",
       "      <td>Autauga County Total Migration-US and Foreign</td>\n",
       "      <td>2400</td>\n",
       "      <td>5702</td>\n",
       "      <td>125069000</td>\n",
       "      <td>us_and_foreign</td>\n",
       "      <td></td>\n",
       "      <td></td>\n",
       "    </tr>\n",
       "  </tbody>\n",
       "</table>\n",
       "</div>"
      ],
      "text/plain": [
       "   year  dest_state_id  dest_county_id  orig_state_id  orig_county_id  \\\n",
       "0  2017              1               1             96               0   \n",
       "\n",
       "  dest_state                                    dest_county  returns  \\\n",
       "0         AL  Autauga County Total Migration-US and Foreign     2400   \n",
       "\n",
       "   individuals  adj_gross_income     inflow_type orig_county orig_state  \n",
       "0         5702         125069000  us_and_foreign                         "
      ]
     },
     "execution_count": 10,
     "metadata": {},
     "output_type": "execute_result"
    }
   ],
   "source": [
    "migration_df = migration_df.drop(columns=['county_id', 'new_county_id', 'fips_state', 'fips_county', 'geoid'])\n",
    "migration_df = migration_df.rename(columns={'county': 'orig_county', 'state': 'orig_state'})\n",
    "migration_df.fillna('', inplace=True)\n",
    "migration_df.head(1)"
   ]
  },
  {
   "cell_type": "code",
   "execution_count": 11,
   "metadata": {},
   "outputs": [
    {
     "data": {
      "text/plain": [
       "385052"
      ]
     },
     "execution_count": 11,
     "metadata": {},
     "output_type": "execute_result"
    }
   ],
   "source": [
    "len(migration_df)"
   ]
  },
  {
   "cell_type": "code",
   "execution_count": 12,
   "metadata": {},
   "outputs": [],
   "source": [
    "# save migration_df to csv\n",
    "migration_df.to_csv('Data/IRS_county_to_county_migration_2017-2021.csv', index=False)"
   ]
  },
  {
   "cell_type": "code",
   "execution_count": 13,
   "metadata": {},
   "outputs": [],
   "source": [
    "# save counties_df to csv (drop 'county_id)\n",
    "counties_df = counties_df.drop(columns='county_id')\n",
    "counties_df = counties_df.sort_values(by='county')\n",
    "counties_df.to_csv('Data/us_counties', index=False)"
   ]
  }
 ],
 "metadata": {
  "kernelspec": {
   "display_name": "Python 3 (ipykernel)",
   "language": "python",
   "name": "python3"
  },
  "language_info": {
   "codemirror_mode": {
    "name": "ipython",
    "version": 3
   },
   "file_extension": ".py",
   "mimetype": "text/x-python",
   "name": "python",
   "nbconvert_exporter": "python",
   "pygments_lexer": "ipython3",
   "version": "3.11.5"
  }
 },
 "nbformat": 4,
 "nbformat_minor": 2
}
